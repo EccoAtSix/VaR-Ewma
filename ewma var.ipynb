{
 "cells": [
  {
   "cell_type": "code",
   "execution_count": 1,
   "metadata": {},
   "outputs": [],
   "source": [
    "class var_ewma:\n",
    "    def __init__(self,data,weights):\n",
    "        self.data=data\n",
    "        self.weights=weights \n",
    "    \n",
    "    def port_returns(self):\n",
    "        import pandas as pd\n",
    "        import numpy as np\n",
    "        returns=self.data.pct_change().dropna()\n",
    "        total=[]\n",
    "        for b in range(len(returns)):\n",
    "            array_returns=np.transpose(np.array(returns.iloc[b,:]))\n",
    "            array_weights=np.array(self.weights)\n",
    "            total.append(np.dot(array_returns,array_weights))\n",
    "        self.total_return=total\n",
    "        self.returns=returns\n",
    "        return np.array(total)\n",
    "    \n",
    "    def ewma(self,conf_level,lambdaa): #Ewma VaR\n",
    "        import pandas as pd\n",
    "        import numpy as np\n",
    "        port_return=pd.DataFrame(self.total_return)\n",
    "        port_return.index=self.returns.index\n",
    "        ret_2=port_return**2\n",
    "        ret_2_sorted=ret_2.sort_index(ascending=False)\n",
    "        peso=[]\n",
    "        inicial=1-lambdaa\n",
    "        for j in range(len(ret_2_sorted)):\n",
    "            peso.append(inicial)\n",
    "            inicial=peso[j]*lambdaa\n",
    "        peso_lambda=pd.Series(peso)\n",
    "        peso_lambda.index=ret_2_sorted.index\n",
    "        multipl=peso_lambda*pd.Series(ret_2_sorted.iloc[:,0])\n",
    "        sigma_ewma=np.sqrt(np.sum(multipl))\n",
    "        import scipy.stats as stats\n",
    "        z=stats.norm.ppf(1-conf_level,0,1)\n",
    "        var_ewma=(z*sigma_ewma)+np.mean(self.total_return)\n",
    "        print(\"VaR Ewma is: \"+str(var_ewma)+\".\")"
   ]
  },
  {
   "cell_type": "code",
   "execution_count": 4,
   "metadata": {},
   "outputs": [
    {
     "data": {
      "text/html": [
       "<div>\n",
       "<style scoped>\n",
       "    .dataframe tbody tr th:only-of-type {\n",
       "        vertical-align: middle;\n",
       "    }\n",
       "\n",
       "    .dataframe tbody tr th {\n",
       "        vertical-align: top;\n",
       "    }\n",
       "\n",
       "    .dataframe thead th {\n",
       "        text-align: right;\n",
       "    }\n",
       "</style>\n",
       "<table border=\"1\" class=\"dataframe\">\n",
       "  <thead>\n",
       "    <tr style=\"text-align: right;\">\n",
       "      <th></th>\n",
       "      <th>COCA COLA</th>\n",
       "      <th>EXXON MOBIL</th>\n",
       "      <th>JOHNSON &amp; JOHNSON</th>\n",
       "      <th>JP MORGAN</th>\n",
       "      <th>APPLE</th>\n",
       "    </tr>\n",
       "    <tr>\n",
       "      <th>FECHA</th>\n",
       "      <th></th>\n",
       "      <th></th>\n",
       "      <th></th>\n",
       "      <th></th>\n",
       "      <th></th>\n",
       "    </tr>\n",
       "  </thead>\n",
       "  <tbody>\n",
       "    <tr>\n",
       "      <th>2018-01-02</th>\n",
       "      <td>39.689281</td>\n",
       "      <td>66.545746</td>\n",
       "      <td>124.394119</td>\n",
       "      <td>95.053246</td>\n",
       "      <td>41.075405</td>\n",
       "    </tr>\n",
       "    <tr>\n",
       "      <th>2018-01-03</th>\n",
       "      <td>39.602119</td>\n",
       "      <td>67.852707</td>\n",
       "      <td>125.582382</td>\n",
       "      <td>95.150124</td>\n",
       "      <td>41.068253</td>\n",
       "    </tr>\n",
       "    <tr>\n",
       "      <th>2018-01-04</th>\n",
       "      <td>40.159908</td>\n",
       "      <td>67.946625</td>\n",
       "      <td>125.573448</td>\n",
       "      <td>96.513199</td>\n",
       "      <td>41.259010</td>\n",
       "    </tr>\n",
       "    <tr>\n",
       "      <th>2018-01-05</th>\n",
       "      <td>40.151192</td>\n",
       "      <td>67.891838</td>\n",
       "      <td>126.609863</td>\n",
       "      <td>95.893608</td>\n",
       "      <td>41.728756</td>\n",
       "    </tr>\n",
       "    <tr>\n",
       "      <th>2018-01-08</th>\n",
       "      <td>40.090179</td>\n",
       "      <td>68.197075</td>\n",
       "      <td>126.770683</td>\n",
       "      <td>96.035217</td>\n",
       "      <td>41.573765</td>\n",
       "    </tr>\n",
       "  </tbody>\n",
       "</table>\n",
       "</div>"
      ],
      "text/plain": [
       "            COCA COLA  EXXON MOBIL  JOHNSON & JOHNSON  JP MORGAN      APPLE\n",
       "FECHA                                                                      \n",
       "2018-01-02  39.689281    66.545746         124.394119  95.053246  41.075405\n",
       "2018-01-03  39.602119    67.852707         125.582382  95.150124  41.068253\n",
       "2018-01-04  40.159908    67.946625         125.573448  96.513199  41.259010\n",
       "2018-01-05  40.151192    67.891838         126.609863  95.893608  41.728756\n",
       "2018-01-08  40.090179    68.197075         126.770683  96.035217  41.573765"
      ]
     },
     "execution_count": 4,
     "metadata": {},
     "output_type": "execute_result"
    }
   ],
   "source": [
    "import pandas as pd\n",
    "import numpy as np\n",
    "dataaa=pd.read_excel(\"portafolioo.xlsx\",sheet_name=\"Hoja5\",index_col=0)\n",
    "pesooos=pd.read_excel(\"portafolioo.xlsx\",sheet_name=\"Hoja6\")\n",
    "dataaa.head()"
   ]
  },
  {
   "cell_type": "code",
   "execution_count": 5,
   "metadata": {},
   "outputs": [
    {
     "data": {
      "text/html": [
       "<div>\n",
       "<style scoped>\n",
       "    .dataframe tbody tr th:only-of-type {\n",
       "        vertical-align: middle;\n",
       "    }\n",
       "\n",
       "    .dataframe tbody tr th {\n",
       "        vertical-align: top;\n",
       "    }\n",
       "\n",
       "    .dataframe thead th {\n",
       "        text-align: right;\n",
       "    }\n",
       "</style>\n",
       "<table border=\"1\" class=\"dataframe\">\n",
       "  <thead>\n",
       "    <tr style=\"text-align: right;\">\n",
       "      <th></th>\n",
       "      <th>Pesos</th>\n",
       "    </tr>\n",
       "  </thead>\n",
       "  <tbody>\n",
       "    <tr>\n",
       "      <th>0</th>\n",
       "      <td>0.15</td>\n",
       "    </tr>\n",
       "    <tr>\n",
       "      <th>1</th>\n",
       "      <td>0.21</td>\n",
       "    </tr>\n",
       "    <tr>\n",
       "      <th>2</th>\n",
       "      <td>0.18</td>\n",
       "    </tr>\n",
       "    <tr>\n",
       "      <th>3</th>\n",
       "      <td>0.14</td>\n",
       "    </tr>\n",
       "    <tr>\n",
       "      <th>4</th>\n",
       "      <td>0.32</td>\n",
       "    </tr>\n",
       "  </tbody>\n",
       "</table>\n",
       "</div>"
      ],
      "text/plain": [
       "   Pesos\n",
       "0   0.15\n",
       "1   0.21\n",
       "2   0.18\n",
       "3   0.14\n",
       "4   0.32"
      ]
     },
     "execution_count": 5,
     "metadata": {},
     "output_type": "execute_result"
    }
   ],
   "source": [
    "pesooos.head()"
   ]
  },
  {
   "cell_type": "code",
   "execution_count": 6,
   "metadata": {},
   "outputs": [
    {
     "name": "stdout",
     "output_type": "stream",
     "text": [
      "VaR Ewma is: -0.04114585240725244.\n"
     ]
    }
   ],
   "source": [
    "objeto_var=var_ewma(dataaa,pesooos)\n",
    "retornos_port=objeto_var.port_returns()                                    \n",
    "ewma=objeto_var.ewma(0.99, 0.90)"
   ]
  }
 ],
 "metadata": {
  "kernelspec": {
   "display_name": "Python 3.9.12 ('base')",
   "language": "python",
   "name": "python3"
  },
  "language_info": {
   "codemirror_mode": {
    "name": "ipython",
    "version": 3
   },
   "file_extension": ".py",
   "mimetype": "text/x-python",
   "name": "python",
   "nbconvert_exporter": "python",
   "pygments_lexer": "ipython3",
   "version": "3.9.12"
  },
  "orig_nbformat": 4,
  "vscode": {
   "interpreter": {
    "hash": "ad2bdc8ecc057115af97d19610ffacc2b4e99fae6737bb82f5d7fb13d2f2c186"
   }
  }
 },
 "nbformat": 4,
 "nbformat_minor": 2
}
